{
 "cells": [
  {
   "cell_type": "markdown",
   "id": "90fcbcfb",
   "metadata": {},
   "source": [
    "# HW1"
   ]
  },
  {
   "cell_type": "markdown",
   "id": "81067a53",
   "metadata": {},
   "source": [
    "**Name:Man Chen**"
   ]
  },
  {
   "cell_type": "markdown",
   "id": "4d7c95be",
   "metadata": {},
   "source": [
    "**ID:2001212261**"
   ]
  },
  {
   "cell_type": "markdown",
   "id": "5cdb8a53",
   "metadata": {},
   "source": [
    "## 1.Data Loading"
   ]
  },
  {
   "cell_type": "code",
   "execution_count": 1,
   "id": "93737bdd",
   "metadata": {},
   "outputs": [],
   "source": [
    "from scipy.io import arff\n",
    "import pandas as pd"
   ]
  },
  {
   "cell_type": "code",
   "execution_count": 2,
   "id": "1fdc2632",
   "metadata": {},
   "outputs": [],
   "source": [
    "data, meta = arff.loadarff('4year.arff')"
   ]
  },
  {
   "cell_type": "code",
   "execution_count": 3,
   "id": "38b607b1",
   "metadata": {},
   "outputs": [],
   "source": [
    "df=pd.DataFrame(data)"
   ]
  },
  {
   "cell_type": "code",
   "execution_count": 4,
   "id": "5828afac",
   "metadata": {},
   "outputs": [
    {
     "data": {
      "text/html": [
       "<div>\n",
       "<style scoped>\n",
       "    .dataframe tbody tr th:only-of-type {\n",
       "        vertical-align: middle;\n",
       "    }\n",
       "\n",
       "    .dataframe tbody tr th {\n",
       "        vertical-align: top;\n",
       "    }\n",
       "\n",
       "    .dataframe thead th {\n",
       "        text-align: right;\n",
       "    }\n",
       "</style>\n",
       "<table border=\"1\" class=\"dataframe\">\n",
       "  <thead>\n",
       "    <tr style=\"text-align: right;\">\n",
       "      <th></th>\n",
       "      <th>Attr1</th>\n",
       "      <th>Attr2</th>\n",
       "      <th>Attr3</th>\n",
       "      <th>Attr4</th>\n",
       "      <th>Attr5</th>\n",
       "      <th>Attr6</th>\n",
       "      <th>Attr7</th>\n",
       "      <th>Attr8</th>\n",
       "      <th>Attr9</th>\n",
       "      <th>Attr10</th>\n",
       "      <th>...</th>\n",
       "      <th>Attr56</th>\n",
       "      <th>Attr57</th>\n",
       "      <th>Attr58</th>\n",
       "      <th>Attr59</th>\n",
       "      <th>Attr60</th>\n",
       "      <th>Attr61</th>\n",
       "      <th>Attr62</th>\n",
       "      <th>Attr63</th>\n",
       "      <th>Attr64</th>\n",
       "      <th>class</th>\n",
       "    </tr>\n",
       "  </thead>\n",
       "  <tbody>\n",
       "    <tr>\n",
       "      <th>0</th>\n",
       "      <td>0.159290</td>\n",
       "      <td>0.46240</td>\n",
       "      <td>0.077730</td>\n",
       "      <td>1.16830</td>\n",
       "      <td>-44.8530</td>\n",
       "      <td>0.467020</td>\n",
       "      <td>0.189480</td>\n",
       "      <td>0.82895</td>\n",
       "      <td>1.12230</td>\n",
       "      <td>0.38330</td>\n",
       "      <td>...</td>\n",
       "      <td>0.108990</td>\n",
       "      <td>0.415570</td>\n",
       "      <td>0.89101</td>\n",
       "      <td>0.001422</td>\n",
       "      <td>7.7928</td>\n",
       "      <td>4.9914</td>\n",
       "      <td>119.810</td>\n",
       "      <td>3.0465</td>\n",
       "      <td>3.05600</td>\n",
       "      <td>b'0'</td>\n",
       "    </tr>\n",
       "    <tr>\n",
       "      <th>1</th>\n",
       "      <td>-0.127430</td>\n",
       "      <td>0.46243</td>\n",
       "      <td>0.269170</td>\n",
       "      <td>1.75170</td>\n",
       "      <td>7.5970</td>\n",
       "      <td>0.000925</td>\n",
       "      <td>-0.127430</td>\n",
       "      <td>1.16250</td>\n",
       "      <td>1.29440</td>\n",
       "      <td>0.53757</td>\n",
       "      <td>...</td>\n",
       "      <td>-0.089372</td>\n",
       "      <td>-0.237040</td>\n",
       "      <td>1.06250</td>\n",
       "      <td>0.150410</td>\n",
       "      <td>5.4327</td>\n",
       "      <td>3.4629</td>\n",
       "      <td>100.970</td>\n",
       "      <td>3.6150</td>\n",
       "      <td>3.47250</td>\n",
       "      <td>b'0'</td>\n",
       "    </tr>\n",
       "    <tr>\n",
       "      <th>2</th>\n",
       "      <td>0.070488</td>\n",
       "      <td>0.23570</td>\n",
       "      <td>0.527810</td>\n",
       "      <td>3.23930</td>\n",
       "      <td>125.6800</td>\n",
       "      <td>0.163670</td>\n",
       "      <td>0.086895</td>\n",
       "      <td>2.87180</td>\n",
       "      <td>1.05740</td>\n",
       "      <td>0.67689</td>\n",
       "      <td>...</td>\n",
       "      <td>0.054286</td>\n",
       "      <td>0.104130</td>\n",
       "      <td>0.94571</td>\n",
       "      <td>0.000000</td>\n",
       "      <td>7.1070</td>\n",
       "      <td>3.3808</td>\n",
       "      <td>76.076</td>\n",
       "      <td>4.7978</td>\n",
       "      <td>4.78180</td>\n",
       "      <td>b'0'</td>\n",
       "    </tr>\n",
       "    <tr>\n",
       "      <th>3</th>\n",
       "      <td>0.136760</td>\n",
       "      <td>0.40538</td>\n",
       "      <td>0.315430</td>\n",
       "      <td>1.87050</td>\n",
       "      <td>19.1150</td>\n",
       "      <td>0.504970</td>\n",
       "      <td>0.136760</td>\n",
       "      <td>1.45390</td>\n",
       "      <td>1.11440</td>\n",
       "      <td>0.58938</td>\n",
       "      <td>...</td>\n",
       "      <td>0.102630</td>\n",
       "      <td>0.232030</td>\n",
       "      <td>0.89737</td>\n",
       "      <td>0.073024</td>\n",
       "      <td>6.1384</td>\n",
       "      <td>4.2241</td>\n",
       "      <td>88.299</td>\n",
       "      <td>4.1337</td>\n",
       "      <td>4.64840</td>\n",
       "      <td>b'0'</td>\n",
       "    </tr>\n",
       "    <tr>\n",
       "      <th>4</th>\n",
       "      <td>-0.110080</td>\n",
       "      <td>0.69793</td>\n",
       "      <td>0.188780</td>\n",
       "      <td>1.27130</td>\n",
       "      <td>-15.3440</td>\n",
       "      <td>0.000000</td>\n",
       "      <td>-0.110080</td>\n",
       "      <td>0.43282</td>\n",
       "      <td>1.73500</td>\n",
       "      <td>0.30207</td>\n",
       "      <td>...</td>\n",
       "      <td>0.439880</td>\n",
       "      <td>-0.364400</td>\n",
       "      <td>0.57153</td>\n",
       "      <td>0.000000</td>\n",
       "      <td>18.8010</td>\n",
       "      <td>2.7925</td>\n",
       "      <td>146.390</td>\n",
       "      <td>2.4934</td>\n",
       "      <td>15.03600</td>\n",
       "      <td>b'0'</td>\n",
       "    </tr>\n",
       "    <tr>\n",
       "      <th>...</th>\n",
       "      <td>...</td>\n",
       "      <td>...</td>\n",
       "      <td>...</td>\n",
       "      <td>...</td>\n",
       "      <td>...</td>\n",
       "      <td>...</td>\n",
       "      <td>...</td>\n",
       "      <td>...</td>\n",
       "      <td>...</td>\n",
       "      <td>...</td>\n",
       "      <td>...</td>\n",
       "      <td>...</td>\n",
       "      <td>...</td>\n",
       "      <td>...</td>\n",
       "      <td>...</td>\n",
       "      <td>...</td>\n",
       "      <td>...</td>\n",
       "      <td>...</td>\n",
       "      <td>...</td>\n",
       "      <td>...</td>\n",
       "      <td>...</td>\n",
       "    </tr>\n",
       "    <tr>\n",
       "      <th>9787</th>\n",
       "      <td>0.004676</td>\n",
       "      <td>0.54949</td>\n",
       "      <td>0.192810</td>\n",
       "      <td>1.38990</td>\n",
       "      <td>-39.0640</td>\n",
       "      <td>0.004676</td>\n",
       "      <td>0.013002</td>\n",
       "      <td>0.78627</td>\n",
       "      <td>0.97093</td>\n",
       "      <td>0.43205</td>\n",
       "      <td>...</td>\n",
       "      <td>-0.029937</td>\n",
       "      <td>0.010823</td>\n",
       "      <td>1.02990</td>\n",
       "      <td>0.127190</td>\n",
       "      <td>3.8159</td>\n",
       "      <td>3.3892</td>\n",
       "      <td>146.860</td>\n",
       "      <td>2.4854</td>\n",
       "      <td>3.93150</td>\n",
       "      <td>b'1'</td>\n",
       "    </tr>\n",
       "    <tr>\n",
       "      <th>9788</th>\n",
       "      <td>-0.027610</td>\n",
       "      <td>0.60748</td>\n",
       "      <td>-0.029762</td>\n",
       "      <td>0.90591</td>\n",
       "      <td>-20.9230</td>\n",
       "      <td>-0.027610</td>\n",
       "      <td>-0.027610</td>\n",
       "      <td>0.55161</td>\n",
       "      <td>1.00730</td>\n",
       "      <td>0.33509</td>\n",
       "      <td>...</td>\n",
       "      <td>0.007198</td>\n",
       "      <td>-0.082395</td>\n",
       "      <td>0.99280</td>\n",
       "      <td>0.868910</td>\n",
       "      <td>23.0280</td>\n",
       "      <td>27.1360</td>\n",
       "      <td>37.047</td>\n",
       "      <td>9.8523</td>\n",
       "      <td>4.36810</td>\n",
       "      <td>b'1'</td>\n",
       "    </tr>\n",
       "    <tr>\n",
       "      <th>9789</th>\n",
       "      <td>-0.238290</td>\n",
       "      <td>0.62708</td>\n",
       "      <td>0.090374</td>\n",
       "      <td>1.61250</td>\n",
       "      <td>-1.0692</td>\n",
       "      <td>-0.238290</td>\n",
       "      <td>-0.240360</td>\n",
       "      <td>0.28322</td>\n",
       "      <td>0.80307</td>\n",
       "      <td>0.17760</td>\n",
       "      <td>...</td>\n",
       "      <td>-0.245220</td>\n",
       "      <td>-1.341700</td>\n",
       "      <td>1.24520</td>\n",
       "      <td>2.700100</td>\n",
       "      <td>6.5694</td>\n",
       "      <td>4.1781</td>\n",
       "      <td>88.883</td>\n",
       "      <td>4.1065</td>\n",
       "      <td>0.79501</td>\n",
       "      <td>b'1'</td>\n",
       "    </tr>\n",
       "    <tr>\n",
       "      <th>9790</th>\n",
       "      <td>0.097188</td>\n",
       "      <td>0.75300</td>\n",
       "      <td>-0.327680</td>\n",
       "      <td>0.43850</td>\n",
       "      <td>-214.2400</td>\n",
       "      <td>-0.331300</td>\n",
       "      <td>0.104280</td>\n",
       "      <td>0.32803</td>\n",
       "      <td>0.98145</td>\n",
       "      <td>0.24700</td>\n",
       "      <td>...</td>\n",
       "      <td>0.288240</td>\n",
       "      <td>0.393470</td>\n",
       "      <td>0.68127</td>\n",
       "      <td>0.508850</td>\n",
       "      <td>4.3246</td>\n",
       "      <td>35.5030</td>\n",
       "      <td>217.030</td>\n",
       "      <td>1.6818</td>\n",
       "      <td>1.31910</td>\n",
       "      <td>b'1'</td>\n",
       "    </tr>\n",
       "    <tr>\n",
       "      <th>9791</th>\n",
       "      <td>0.021416</td>\n",
       "      <td>0.48678</td>\n",
       "      <td>0.148940</td>\n",
       "      <td>1.30670</td>\n",
       "      <td>-24.2820</td>\n",
       "      <td>0.021416</td>\n",
       "      <td>0.027253</td>\n",
       "      <td>1.05320</td>\n",
       "      <td>1.00140</td>\n",
       "      <td>0.51267</td>\n",
       "      <td>...</td>\n",
       "      <td>0.001393</td>\n",
       "      <td>0.041773</td>\n",
       "      <td>0.99861</td>\n",
       "      <td>0.002146</td>\n",
       "      <td>6.7582</td>\n",
       "      <td>4.9171</td>\n",
       "      <td>98.421</td>\n",
       "      <td>3.7085</td>\n",
       "      <td>4.92950</td>\n",
       "      <td>b'1'</td>\n",
       "    </tr>\n",
       "  </tbody>\n",
       "</table>\n",
       "<p>9792 rows × 65 columns</p>\n",
       "</div>"
      ],
      "text/plain": [
       "         Attr1    Attr2     Attr3    Attr4     Attr5     Attr6     Attr7  \\\n",
       "0     0.159290  0.46240  0.077730  1.16830  -44.8530  0.467020  0.189480   \n",
       "1    -0.127430  0.46243  0.269170  1.75170    7.5970  0.000925 -0.127430   \n",
       "2     0.070488  0.23570  0.527810  3.23930  125.6800  0.163670  0.086895   \n",
       "3     0.136760  0.40538  0.315430  1.87050   19.1150  0.504970  0.136760   \n",
       "4    -0.110080  0.69793  0.188780  1.27130  -15.3440  0.000000 -0.110080   \n",
       "...        ...      ...       ...      ...       ...       ...       ...   \n",
       "9787  0.004676  0.54949  0.192810  1.38990  -39.0640  0.004676  0.013002   \n",
       "9788 -0.027610  0.60748 -0.029762  0.90591  -20.9230 -0.027610 -0.027610   \n",
       "9789 -0.238290  0.62708  0.090374  1.61250   -1.0692 -0.238290 -0.240360   \n",
       "9790  0.097188  0.75300 -0.327680  0.43850 -214.2400 -0.331300  0.104280   \n",
       "9791  0.021416  0.48678  0.148940  1.30670  -24.2820  0.021416  0.027253   \n",
       "\n",
       "        Attr8    Attr9   Attr10  ...    Attr56    Attr57   Attr58    Attr59  \\\n",
       "0     0.82895  1.12230  0.38330  ...  0.108990  0.415570  0.89101  0.001422   \n",
       "1     1.16250  1.29440  0.53757  ... -0.089372 -0.237040  1.06250  0.150410   \n",
       "2     2.87180  1.05740  0.67689  ...  0.054286  0.104130  0.94571  0.000000   \n",
       "3     1.45390  1.11440  0.58938  ...  0.102630  0.232030  0.89737  0.073024   \n",
       "4     0.43282  1.73500  0.30207  ...  0.439880 -0.364400  0.57153  0.000000   \n",
       "...       ...      ...      ...  ...       ...       ...      ...       ...   \n",
       "9787  0.78627  0.97093  0.43205  ... -0.029937  0.010823  1.02990  0.127190   \n",
       "9788  0.55161  1.00730  0.33509  ...  0.007198 -0.082395  0.99280  0.868910   \n",
       "9789  0.28322  0.80307  0.17760  ... -0.245220 -1.341700  1.24520  2.700100   \n",
       "9790  0.32803  0.98145  0.24700  ...  0.288240  0.393470  0.68127  0.508850   \n",
       "9791  1.05320  1.00140  0.51267  ...  0.001393  0.041773  0.99861  0.002146   \n",
       "\n",
       "       Attr60   Attr61   Attr62  Attr63    Attr64  class  \n",
       "0      7.7928   4.9914  119.810  3.0465   3.05600   b'0'  \n",
       "1      5.4327   3.4629  100.970  3.6150   3.47250   b'0'  \n",
       "2      7.1070   3.3808   76.076  4.7978   4.78180   b'0'  \n",
       "3      6.1384   4.2241   88.299  4.1337   4.64840   b'0'  \n",
       "4     18.8010   2.7925  146.390  2.4934  15.03600   b'0'  \n",
       "...       ...      ...      ...     ...       ...    ...  \n",
       "9787   3.8159   3.3892  146.860  2.4854   3.93150   b'1'  \n",
       "9788  23.0280  27.1360   37.047  9.8523   4.36810   b'1'  \n",
       "9789   6.5694   4.1781   88.883  4.1065   0.79501   b'1'  \n",
       "9790   4.3246  35.5030  217.030  1.6818   1.31910   b'1'  \n",
       "9791   6.7582   4.9171   98.421  3.7085   4.92950   b'1'  \n",
       "\n",
       "[9792 rows x 65 columns]"
      ]
     },
     "execution_count": 4,
     "metadata": {},
     "output_type": "execute_result"
    }
   ],
   "source": [
    "df"
   ]
  },
  {
   "cell_type": "markdown",
   "id": "ab061711",
   "metadata": {},
   "source": [
    "## 2.Data Processing"
   ]
  },
  {
   "cell_type": "code",
   "execution_count": 5,
   "id": "83fce767",
   "metadata": {},
   "outputs": [],
   "source": [
    "df['Bankruptcy'] = (df['class']==b'1')\n",
    "del df['class']\n",
    "df.columns = ['X{0:02d}'.format(k) for k in range(1,65)] + ['Bankruptcy']"
   ]
  },
  {
   "cell_type": "markdown",
   "id": "e5096c01",
   "metadata": {},
   "source": [
    "## 3.Data Extraction"
   ]
  },
  {
   "cell_type": "code",
   "execution_count": 6,
   "id": "ecfb4b02",
   "metadata": {},
   "outputs": [],
   "source": [
    "df1=df[['X01','X02','X07','X10','Bankruptcy']]"
   ]
  },
  {
   "cell_type": "code",
   "execution_count": 7,
   "id": "7a6d9ab1",
   "metadata": {},
   "outputs": [
    {
     "data": {
      "text/html": [
       "<div>\n",
       "<style scoped>\n",
       "    .dataframe tbody tr th:only-of-type {\n",
       "        vertical-align: middle;\n",
       "    }\n",
       "\n",
       "    .dataframe tbody tr th {\n",
       "        vertical-align: top;\n",
       "    }\n",
       "\n",
       "    .dataframe thead th {\n",
       "        text-align: right;\n",
       "    }\n",
       "</style>\n",
       "<table border=\"1\" class=\"dataframe\">\n",
       "  <thead>\n",
       "    <tr style=\"text-align: right;\">\n",
       "      <th></th>\n",
       "      <th>X01</th>\n",
       "      <th>X02</th>\n",
       "      <th>X07</th>\n",
       "      <th>X10</th>\n",
       "      <th>Bankruptcy</th>\n",
       "    </tr>\n",
       "  </thead>\n",
       "  <tbody>\n",
       "    <tr>\n",
       "      <th>0</th>\n",
       "      <td>0.159290</td>\n",
       "      <td>0.46240</td>\n",
       "      <td>0.189480</td>\n",
       "      <td>0.38330</td>\n",
       "      <td>False</td>\n",
       "    </tr>\n",
       "    <tr>\n",
       "      <th>1</th>\n",
       "      <td>-0.127430</td>\n",
       "      <td>0.46243</td>\n",
       "      <td>-0.127430</td>\n",
       "      <td>0.53757</td>\n",
       "      <td>False</td>\n",
       "    </tr>\n",
       "    <tr>\n",
       "      <th>2</th>\n",
       "      <td>0.070488</td>\n",
       "      <td>0.23570</td>\n",
       "      <td>0.086895</td>\n",
       "      <td>0.67689</td>\n",
       "      <td>False</td>\n",
       "    </tr>\n",
       "    <tr>\n",
       "      <th>3</th>\n",
       "      <td>0.136760</td>\n",
       "      <td>0.40538</td>\n",
       "      <td>0.136760</td>\n",
       "      <td>0.58938</td>\n",
       "      <td>False</td>\n",
       "    </tr>\n",
       "    <tr>\n",
       "      <th>4</th>\n",
       "      <td>-0.110080</td>\n",
       "      <td>0.69793</td>\n",
       "      <td>-0.110080</td>\n",
       "      <td>0.30207</td>\n",
       "      <td>False</td>\n",
       "    </tr>\n",
       "    <tr>\n",
       "      <th>...</th>\n",
       "      <td>...</td>\n",
       "      <td>...</td>\n",
       "      <td>...</td>\n",
       "      <td>...</td>\n",
       "      <td>...</td>\n",
       "    </tr>\n",
       "    <tr>\n",
       "      <th>9787</th>\n",
       "      <td>0.004676</td>\n",
       "      <td>0.54949</td>\n",
       "      <td>0.013002</td>\n",
       "      <td>0.43205</td>\n",
       "      <td>True</td>\n",
       "    </tr>\n",
       "    <tr>\n",
       "      <th>9788</th>\n",
       "      <td>-0.027610</td>\n",
       "      <td>0.60748</td>\n",
       "      <td>-0.027610</td>\n",
       "      <td>0.33509</td>\n",
       "      <td>True</td>\n",
       "    </tr>\n",
       "    <tr>\n",
       "      <th>9789</th>\n",
       "      <td>-0.238290</td>\n",
       "      <td>0.62708</td>\n",
       "      <td>-0.240360</td>\n",
       "      <td>0.17760</td>\n",
       "      <td>True</td>\n",
       "    </tr>\n",
       "    <tr>\n",
       "      <th>9790</th>\n",
       "      <td>0.097188</td>\n",
       "      <td>0.75300</td>\n",
       "      <td>0.104280</td>\n",
       "      <td>0.24700</td>\n",
       "      <td>True</td>\n",
       "    </tr>\n",
       "    <tr>\n",
       "      <th>9791</th>\n",
       "      <td>0.021416</td>\n",
       "      <td>0.48678</td>\n",
       "      <td>0.027253</td>\n",
       "      <td>0.51267</td>\n",
       "      <td>True</td>\n",
       "    </tr>\n",
       "  </tbody>\n",
       "</table>\n",
       "<p>9792 rows × 5 columns</p>\n",
       "</div>"
      ],
      "text/plain": [
       "           X01      X02       X07      X10  Bankruptcy\n",
       "0     0.159290  0.46240  0.189480  0.38330       False\n",
       "1    -0.127430  0.46243 -0.127430  0.53757       False\n",
       "2     0.070488  0.23570  0.086895  0.67689       False\n",
       "3     0.136760  0.40538  0.136760  0.58938       False\n",
       "4    -0.110080  0.69793 -0.110080  0.30207       False\n",
       "...        ...      ...       ...      ...         ...\n",
       "9787  0.004676  0.54949  0.013002  0.43205        True\n",
       "9788 -0.027610  0.60748 -0.027610  0.33509        True\n",
       "9789 -0.238290  0.62708 -0.240360  0.17760        True\n",
       "9790  0.097188  0.75300  0.104280  0.24700        True\n",
       "9791  0.021416  0.48678  0.027253  0.51267        True\n",
       "\n",
       "[9792 rows x 5 columns]"
      ]
     },
     "execution_count": 7,
     "metadata": {},
     "output_type": "execute_result"
    }
   ],
   "source": [
    "df1"
   ]
  },
  {
   "cell_type": "code",
   "execution_count": 8,
   "id": "8cb7ef23",
   "metadata": {},
   "outputs": [
    {
     "name": "stderr",
     "output_type": "stream",
     "text": [
      "D:\\Anaconda3\\lib\\site-packages\\pandas\\core\\frame.py:4441: SettingWithCopyWarning: \n",
      "A value is trying to be set on a copy of a slice from a DataFrame\n",
      "\n",
      "See the caveats in the documentation: https://pandas.pydata.org/pandas-docs/stable/user_guide/indexing.html#returning-a-view-versus-a-copy\n",
      "  return super().rename(\n"
     ]
    }
   ],
   "source": [
    "df1.rename(columns={'X01':'X1','X02':'X2','X07':'X7','X10':'X10'},inplace=True)"
   ]
  },
  {
   "cell_type": "markdown",
   "id": "073b3d60",
   "metadata": {},
   "source": [
    "## 4.Filling NaN"
   ]
  },
  {
   "cell_type": "code",
   "execution_count": 9,
   "id": "468271f0",
   "metadata": {},
   "outputs": [
    {
     "name": "stderr",
     "output_type": "stream",
     "text": [
      "D:\\Anaconda3\\lib\\site-packages\\pandas\\core\\series.py:4463: SettingWithCopyWarning: \n",
      "A value is trying to be set on a copy of a slice from a DataFrame\n",
      "\n",
      "See the caveats in the documentation: https://pandas.pydata.org/pandas-docs/stable/user_guide/indexing.html#returning-a-view-versus-a-copy\n",
      "  return super().fillna(\n"
     ]
    }
   ],
   "source": [
    "df1.fillna(df1.mean(),inplace=True)"
   ]
  },
  {
   "cell_type": "code",
   "execution_count": 10,
   "id": "34f14d60",
   "metadata": {},
   "outputs": [
    {
     "data": {
      "text/html": [
       "<div>\n",
       "<style scoped>\n",
       "    .dataframe tbody tr th:only-of-type {\n",
       "        vertical-align: middle;\n",
       "    }\n",
       "\n",
       "    .dataframe tbody tr th {\n",
       "        vertical-align: top;\n",
       "    }\n",
       "\n",
       "    .dataframe thead th {\n",
       "        text-align: right;\n",
       "    }\n",
       "</style>\n",
       "<table border=\"1\" class=\"dataframe\">\n",
       "  <thead>\n",
       "    <tr style=\"text-align: right;\">\n",
       "      <th></th>\n",
       "      <th>X1</th>\n",
       "      <th>X2</th>\n",
       "      <th>X7</th>\n",
       "      <th>X10</th>\n",
       "      <th>Bankruptcy</th>\n",
       "    </tr>\n",
       "  </thead>\n",
       "  <tbody>\n",
       "    <tr>\n",
       "      <th>0</th>\n",
       "      <td>0.159290</td>\n",
       "      <td>0.46240</td>\n",
       "      <td>0.189480</td>\n",
       "      <td>0.38330</td>\n",
       "      <td>False</td>\n",
       "    </tr>\n",
       "    <tr>\n",
       "      <th>1</th>\n",
       "      <td>-0.127430</td>\n",
       "      <td>0.46243</td>\n",
       "      <td>-0.127430</td>\n",
       "      <td>0.53757</td>\n",
       "      <td>False</td>\n",
       "    </tr>\n",
       "    <tr>\n",
       "      <th>2</th>\n",
       "      <td>0.070488</td>\n",
       "      <td>0.23570</td>\n",
       "      <td>0.086895</td>\n",
       "      <td>0.67689</td>\n",
       "      <td>False</td>\n",
       "    </tr>\n",
       "    <tr>\n",
       "      <th>3</th>\n",
       "      <td>0.136760</td>\n",
       "      <td>0.40538</td>\n",
       "      <td>0.136760</td>\n",
       "      <td>0.58938</td>\n",
       "      <td>False</td>\n",
       "    </tr>\n",
       "    <tr>\n",
       "      <th>4</th>\n",
       "      <td>-0.110080</td>\n",
       "      <td>0.69793</td>\n",
       "      <td>-0.110080</td>\n",
       "      <td>0.30207</td>\n",
       "      <td>False</td>\n",
       "    </tr>\n",
       "    <tr>\n",
       "      <th>...</th>\n",
       "      <td>...</td>\n",
       "      <td>...</td>\n",
       "      <td>...</td>\n",
       "      <td>...</td>\n",
       "      <td>...</td>\n",
       "    </tr>\n",
       "    <tr>\n",
       "      <th>9787</th>\n",
       "      <td>0.004676</td>\n",
       "      <td>0.54949</td>\n",
       "      <td>0.013002</td>\n",
       "      <td>0.43205</td>\n",
       "      <td>True</td>\n",
       "    </tr>\n",
       "    <tr>\n",
       "      <th>9788</th>\n",
       "      <td>-0.027610</td>\n",
       "      <td>0.60748</td>\n",
       "      <td>-0.027610</td>\n",
       "      <td>0.33509</td>\n",
       "      <td>True</td>\n",
       "    </tr>\n",
       "    <tr>\n",
       "      <th>9789</th>\n",
       "      <td>-0.238290</td>\n",
       "      <td>0.62708</td>\n",
       "      <td>-0.240360</td>\n",
       "      <td>0.17760</td>\n",
       "      <td>True</td>\n",
       "    </tr>\n",
       "    <tr>\n",
       "      <th>9790</th>\n",
       "      <td>0.097188</td>\n",
       "      <td>0.75300</td>\n",
       "      <td>0.104280</td>\n",
       "      <td>0.24700</td>\n",
       "      <td>True</td>\n",
       "    </tr>\n",
       "    <tr>\n",
       "      <th>9791</th>\n",
       "      <td>0.021416</td>\n",
       "      <td>0.48678</td>\n",
       "      <td>0.027253</td>\n",
       "      <td>0.51267</td>\n",
       "      <td>True</td>\n",
       "    </tr>\n",
       "  </tbody>\n",
       "</table>\n",
       "<p>9792 rows × 5 columns</p>\n",
       "</div>"
      ],
      "text/plain": [
       "            X1       X2        X7      X10  Bankruptcy\n",
       "0     0.159290  0.46240  0.189480  0.38330       False\n",
       "1    -0.127430  0.46243 -0.127430  0.53757       False\n",
       "2     0.070488  0.23570  0.086895  0.67689       False\n",
       "3     0.136760  0.40538  0.136760  0.58938       False\n",
       "4    -0.110080  0.69793 -0.110080  0.30207       False\n",
       "...        ...      ...       ...      ...         ...\n",
       "9787  0.004676  0.54949  0.013002  0.43205        True\n",
       "9788 -0.027610  0.60748 -0.027610  0.33509        True\n",
       "9789 -0.238290  0.62708 -0.240360  0.17760        True\n",
       "9790  0.097188  0.75300  0.104280  0.24700        True\n",
       "9791  0.021416  0.48678  0.027253  0.51267        True\n",
       "\n",
       "[9792 rows x 5 columns]"
      ]
     },
     "execution_count": 10,
     "metadata": {},
     "output_type": "execute_result"
    }
   ],
   "source": [
    "df1"
   ]
  },
  {
   "cell_type": "markdown",
   "id": "77968540",
   "metadata": {},
   "source": [
    "## 5.Calculation of mean and std"
   ]
  },
  {
   "cell_type": "markdown",
   "id": "49fede95",
   "metadata": {},
   "source": [
    "### 5.1 All companies"
   ]
  },
  {
   "cell_type": "code",
   "execution_count": 11,
   "id": "5aa6d1af",
   "metadata": {},
   "outputs": [
    {
     "name": "stdout",
     "output_type": "stream",
     "text": [
      "The mean of X1 of all companies is: 0.04301916745123084\n",
      "The mean of X2 of all companies is: 0.596403815879586\n",
      "The mean of X7 of all companies is: 0.05944590101021367\n",
      "The mean of X10 of all companies is: 0.3890400827576346\n"
     ]
    }
   ],
   "source": [
    "# Mean\n",
    "print('The mean of X1 of all companies is:',df1.mean()['X1'])\n",
    "print('The mean of X2 of all companies is:',df1.mean()['X2'])\n",
    "print('The mean of X7 of all companies is:',df1.mean()['X7'])\n",
    "print('The mean of X10 of all companies is:',df1.mean()['X10'])"
   ]
  },
  {
   "cell_type": "code",
   "execution_count": 12,
   "id": "38a37cb5",
   "metadata": {},
   "outputs": [
    {
     "name": "stdout",
     "output_type": "stream",
     "text": [
      "The std of X1 of all companies is: 0.35930257137273275\n",
      "The std of X2 of all companies is: 4.586887397339805\n",
      "The std of X7 of all companies is: 0.5333166953577835\n",
      "The std of X10 of all companies is: 4.590064237698494\n"
     ]
    }
   ],
   "source": [
    "# Standard Deviation\n",
    "print('The std of X1 of all companies is:',df1.std()['X1'])\n",
    "print('The std of X2 of all companies is:',df1.std()['X2'])\n",
    "print('The std of X7 of all companies is:',df1.std()['X7'])\n",
    "print('The std of X10 of all companies is:',df1.std()['X10'])"
   ]
  },
  {
   "cell_type": "markdown",
   "id": "d493b017",
   "metadata": {},
   "source": [
    "### 5.2 Bankruptcy Companies"
   ]
  },
  {
   "cell_type": "code",
   "execution_count": 13,
   "id": "2edc515f",
   "metadata": {},
   "outputs": [
    {
     "name": "stdout",
     "output_type": "stream",
     "text": [
      "The mean of X1 of bankruptcy companies is: -0.06887267979417472\n",
      "The mean of X2 of bankruptcy companies is: 0.8783549529126209\n",
      "The mean of X7 of bankruptcy companies is: -0.06153787905825238\n",
      "The mean of X10 of bankruptcy companies is: 0.10336679728155329\n"
     ]
    }
   ],
   "source": [
    "# Mean\n",
    "print('The mean of X1 of bankruptcy companies is:',df1[df1['Bankruptcy']==True].mean()['X1'])\n",
    "print('The mean of X2 of bankruptcy companies is:',df1[df1['Bankruptcy']==True].mean()['X2'])\n",
    "print('The mean of X7 of bankruptcy companies is:',df1[df1['Bankruptcy']==True].mean()['X7'])\n",
    "print('The mean of X10 of bankruptcy companies is:',df1[df1['Bankruptcy']==True].mean()['X10'])"
   ]
  },
  {
   "cell_type": "code",
   "execution_count": 14,
   "id": "5049193f",
   "metadata": {},
   "outputs": [
    {
     "name": "stdout",
     "output_type": "stream",
     "text": [
      "The std of X1 of bankruptcy companies is: 0.5680757595733424\n",
      "The std of X2 of bankruptcy companies is: 1.9455961615333148\n",
      "The std of X7 of bankruptcy companies is: 0.5684319913657706\n",
      "The std of X10 of bankruptcy companies is: 1.9467470062136751\n"
     ]
    }
   ],
   "source": [
    "# Standard Deviation\n",
    "print('The std of X1 of bankruptcy companies is:',df1[df1['Bankruptcy']==True].std()['X1'])\n",
    "print('The std of X2 of bankruptcy companies is:',df1[df1['Bankruptcy']==True].std()['X2'])\n",
    "print('The std of X7 of bankruptcy companies is:',df1[df1['Bankruptcy']==True].std()['X7'])\n",
    "print('The std of X10 of bankruptcy companies is:',df1[df1['Bankruptcy']==True].std()['X10'])"
   ]
  },
  {
   "cell_type": "markdown",
   "id": "cbbf366e",
   "metadata": {},
   "source": [
    "### 5.3 Operating Companies"
   ]
  },
  {
   "cell_type": "code",
   "execution_count": 15,
   "id": "28df9764",
   "metadata": {},
   "outputs": [
    {
     "name": "stdout",
     "output_type": "stream",
     "text": [
      "The mean of X1 of operating companies is: 0.04923069071644411\n",
      "The mean of X2 of operating companies is: 0.5807516831241678\n",
      "The mean of X7 of operating companies is: 0.06616215052355413\n",
      "The mean of X10 of operating companies is: 0.4048988455063873\n"
     ]
    }
   ],
   "source": [
    "# Mean\n",
    "print('The mean of X1 of operating companies is:',df1[df1['Bankruptcy']==False].mean()['X1'])\n",
    "print('The mean of X2 of operating companies is:',df1[df1['Bankruptcy']==False].mean()['X2'])\n",
    "print('The mean of X7 of operating companies is:',df1[df1['Bankruptcy']==False].mean()['X7'])\n",
    "print('The mean of X10 of operating companies is:',df1[df1['Bankruptcy']==False].mean()['X10'])"
   ]
  },
  {
   "cell_type": "code",
   "execution_count": 16,
   "id": "67e65aad",
   "metadata": {},
   "outputs": [
    {
     "name": "stdout",
     "output_type": "stream",
     "text": [
      "The std of X1 of operating companies is: 0.3430017446579275\n",
      "The std of X2 of operating companies is: 4.689694192138298\n",
      "The std of X7 of operating companies is: 0.5305240968515745\n",
      "The std of X10 of operating companies is: 4.692934252693829\n"
     ]
    }
   ],
   "source": [
    "# Mean\n",
    "print('The std of X1 of operating companies is:',df1[df1['Bankruptcy']==False].std()['X1'])\n",
    "print('The std of X2 of operating companies is:',df1[df1['Bankruptcy']==False].std()['X2'])\n",
    "print('The std of X7 of operating companies is:',df1[df1['Bankruptcy']==False].std()['X7'])\n",
    "print('The std of X10 of operating companies is:',df1[df1['Bankruptcy']==False].std()['X10'])"
   ]
  },
  {
   "cell_type": "markdown",
   "id": "2606eaf5",
   "metadata": {},
   "source": [
    "## 6.Generating new subgroups"
   ]
  },
  {
   "cell_type": "code",
   "execution_count": 17,
   "id": "d047b162",
   "metadata": {},
   "outputs": [],
   "source": [
    "subgroup1=df1[df1['X1']<df1.mean()['X1']-df1.std()['X1']]"
   ]
  },
  {
   "cell_type": "code",
   "execution_count": 18,
   "id": "c10d4637",
   "metadata": {},
   "outputs": [
    {
     "name": "stdout",
     "output_type": "stream",
     "text": [
      "The number of the companies satisfying the condition X1 < mean(X1) - stdev(X1) is:  284\n"
     ]
    }
   ],
   "source": [
    "print('The number of the companies satisfying the condition X1 < mean(X1) - stdev(X1) is: ',subgroup1.shape[0])"
   ]
  },
  {
   "cell_type": "code",
   "execution_count": 19,
   "id": "e7b90011",
   "metadata": {},
   "outputs": [],
   "source": [
    "subgroup2=df1[df1['X10']<df1.mean()['X10']-df1.std()['X10']]"
   ]
  },
  {
   "cell_type": "code",
   "execution_count": 20,
   "id": "996059f2",
   "metadata": {},
   "outputs": [
    {
     "name": "stdout",
     "output_type": "stream",
     "text": [
      "The number of the companies satisfying the condition X10 < mean(X10) - stdev(X10) is:  24\n"
     ]
    }
   ],
   "source": [
    "print('The number of the companies satisfying the condition X10 < mean(X10) - stdev(X10) is: ',subgroup2.shape[0])"
   ]
  },
  {
   "cell_type": "markdown",
   "id": "32cd2198",
   "metadata": {},
   "source": [
    "## 7.Calculating the ratio of subgroup"
   ]
  },
  {
   "cell_type": "code",
   "execution_count": 21,
   "id": "4672b24a",
   "metadata": {},
   "outputs": [
    {
     "name": "stdout",
     "output_type": "stream",
     "text": [
      "The ratio of the bankruptcy of subgroup1 is:  0.20774647887323944\n"
     ]
    }
   ],
   "source": [
    "print('The ratio of the bankruptcy of subgroup1 is: ',subgroup1[subgroup1['Bankruptcy']==True].shape[0]/subgroup1.shape[0])"
   ]
  },
  {
   "cell_type": "code",
   "execution_count": 22,
   "id": "09374915",
   "metadata": {},
   "outputs": [
    {
     "name": "stdout",
     "output_type": "stream",
     "text": [
      "The ratio of the bankruptcy of subgroup2 is:  0.125\n"
     ]
    }
   ],
   "source": [
    "print('The ratio of the bankruptcy of subgroup2 is: ',subgroup2[subgroup2['Bankruptcy']==True].shape[0]/subgroup2.shape[0])"
   ]
  }
 ],
 "metadata": {
  "kernelspec": {
   "display_name": "Python 3",
   "language": "python",
   "name": "python3"
  },
  "language_info": {
   "codemirror_mode": {
    "name": "ipython",
    "version": 3
   },
   "file_extension": ".py",
   "mimetype": "text/x-python",
   "name": "python",
   "nbconvert_exporter": "python",
   "pygments_lexer": "ipython3",
   "version": "3.8.8"
  }
 },
 "nbformat": 4,
 "nbformat_minor": 5
}
